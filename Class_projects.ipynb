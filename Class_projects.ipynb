{
 "cells": [
  {
   "cell_type": "markdown",
   "metadata": {},
   "source": [
    "# Class project grade analysis"
   ]
  },
  {
   "cell_type": "markdown",
   "metadata": {},
   "source": [
    "While grading a class project, I got the feeling that students who chose to use a comic format were having a much harder time demonstrating knowledge and meeting the grading criteria than students who chose to use an essay format. I decided to do a permutation test to determine whether or not the distribution of scores were actually distinct so that I could make an informed decision about whether I needed to adjust my grading."
   ]
  },
  {
   "cell_type": "code",
   "execution_count": 1,
   "metadata": {
    "collapsed": true
   },
   "outputs": [],
   "source": [
    "import pandas as pd\n",
    "import matplotlib.pyplot as plt\n",
    "import seaborn as sns\n",
    "import numpy as np\n",
    "%matplotlib inline"
   ]
  },
  {
   "cell_type": "markdown",
   "metadata": {},
   "source": [
    "I recorded each student's score along with the format they chose and their class (two periods did this project)"
   ]
  },
  {
   "cell_type": "code",
   "execution_count": 2,
   "metadata": {
    "collapsed": true
   },
   "outputs": [],
   "source": [
    "df = pd.read_csv(\"Projects.csv\")"
   ]
  },
  {
   "cell_type": "code",
   "execution_count": 3,
   "metadata": {},
   "outputs": [
    {
     "name": "stdout",
     "output_type": "stream",
     "text": [
      "<class 'pandas.core.frame.DataFrame'>\n",
      "RangeIndex: 48 entries, 0 to 47\n",
      "Data columns (total 4 columns):\n",
      "Student    48 non-null int64\n",
      "Class      48 non-null object\n",
      "Grade      47 non-null float64\n",
      "Format     47 non-null object\n",
      "dtypes: float64(1), int64(1), object(2)\n",
      "memory usage: 1.6+ KB\n"
     ]
    }
   ],
   "source": [
    "df.info()"
   ]
  },
  {
   "cell_type": "markdown",
   "metadata": {},
   "source": [
    "One student had not yet submitted the assignment, so I needed to drop their information."
   ]
  },
  {
   "cell_type": "code",
   "execution_count": 4,
   "metadata": {
    "collapsed": true
   },
   "outputs": [],
   "source": [
    "df.dropna(inplace=True)"
   ]
  },
  {
   "cell_type": "code",
   "execution_count": 5,
   "metadata": {},
   "outputs": [
    {
     "data": {
      "text/html": [
       "<div>\n",
       "<style>\n",
       "    .dataframe thead tr:only-child th {\n",
       "        text-align: right;\n",
       "    }\n",
       "\n",
       "    .dataframe thead th {\n",
       "        text-align: left;\n",
       "    }\n",
       "\n",
       "    .dataframe tbody tr th {\n",
       "        vertical-align: top;\n",
       "    }\n",
       "</style>\n",
       "<table border=\"1\" class=\"dataframe\">\n",
       "  <thead>\n",
       "    <tr style=\"text-align: right;\">\n",
       "      <th></th>\n",
       "      <th>Student</th>\n",
       "      <th>Class</th>\n",
       "      <th>Grade</th>\n",
       "    </tr>\n",
       "    <tr>\n",
       "      <th>Format</th>\n",
       "      <th></th>\n",
       "      <th></th>\n",
       "      <th></th>\n",
       "    </tr>\n",
       "  </thead>\n",
       "  <tbody>\n",
       "    <tr>\n",
       "      <th>comic</th>\n",
       "      <td>16</td>\n",
       "      <td>16</td>\n",
       "      <td>16</td>\n",
       "    </tr>\n",
       "    <tr>\n",
       "      <th>diary</th>\n",
       "      <td>9</td>\n",
       "      <td>9</td>\n",
       "      <td>9</td>\n",
       "    </tr>\n",
       "    <tr>\n",
       "      <th>essay</th>\n",
       "      <td>14</td>\n",
       "      <td>14</td>\n",
       "      <td>14</td>\n",
       "    </tr>\n",
       "    <tr>\n",
       "      <th>poem</th>\n",
       "      <td>1</td>\n",
       "      <td>1</td>\n",
       "      <td>1</td>\n",
       "    </tr>\n",
       "    <tr>\n",
       "      <th>story</th>\n",
       "      <td>1</td>\n",
       "      <td>1</td>\n",
       "      <td>1</td>\n",
       "    </tr>\n",
       "    <tr>\n",
       "      <th>video</th>\n",
       "      <td>6</td>\n",
       "      <td>6</td>\n",
       "      <td>6</td>\n",
       "    </tr>\n",
       "  </tbody>\n",
       "</table>\n",
       "</div>"
      ],
      "text/plain": [
       "        Student  Class  Grade\n",
       "Format                       \n",
       "comic        16     16     16\n",
       "diary         9      9      9\n",
       "essay        14     14     14\n",
       "poem          1      1      1\n",
       "story         1      1      1\n",
       "video         6      6      6"
      ]
     },
     "execution_count": 5,
     "metadata": {},
     "output_type": "execute_result"
    }
   ],
   "source": [
    "df.groupby(\"Format\").count()"
   ]
  },
  {
   "cell_type": "markdown",
   "metadata": {},
   "source": [
    "Two students did unique formats, so I dropped their information as well."
   ]
  },
  {
   "cell_type": "code",
   "execution_count": 6,
   "metadata": {
    "collapsed": true
   },
   "outputs": [],
   "source": [
    "df = df.drop(df[df.Format==\"poem\"].index)\n",
    "df = df.drop(df[df.Format==\"story\"].index)"
   ]
  },
  {
   "cell_type": "markdown",
   "metadata": {},
   "source": [
    "The permutation test combines data from two sets of students and splits it back into two random groupings. It is a way to analyze the likelihood that two sets of data really come from the same distribution. My permuttest function performs this analysis, prints the p-value for getting a difference in means as extreme as was seen, and plots a histogram of the difference of means seen during the simulation (which are also returned)."
   ]
  },
  {
   "cell_type": "code",
   "execution_count": 7,
   "metadata": {
    "collapsed": true
   },
   "outputs": [],
   "source": [
    "def permuttest(series1, series2, size=10000):\n",
    "    \"\"\"Does a permutation test to compute difference in means between size iterations of a permutation test. Returns array of dif. of means\"\"\"\n",
    "    true_diff = np.mean(series1)-np.mean(series2)\n",
    "    concatarray = np.concatenate((np.array(series1), np.array(series2)))\n",
    "    diff_means = np.empty(size)\n",
    "    for i in range(size):\n",
    "        permuted = np.random.permutation(concatarray)\n",
    "        s1 = permuted[:len(series1)]\n",
    "        s2 = permuted[len(series1):]\n",
    "        diff_means[i]=np.mean(s1)-np.mean(s2)\n",
    "    p = sum(np.abs(diff_means)>=true_diff)/size\n",
    "    print('p-value: {}'.format(p))\n",
    "    plt.hist(diff_means)\n",
    "    plt.xlabel(\"Difference of means\")\n",
    "    plt.ylabel(\"Frequency\")\n",
    "    plt.axvline(x=true_diff, color=\"r\");\n",
    "    return diff_means"
   ]
  },
  {
   "cell_type": "markdown",
   "metadata": {},
   "source": [
    "The two class periods did not seem to be very different."
   ]
  },
  {
   "cell_type": "code",
   "execution_count": 8,
   "metadata": {},
   "outputs": [
    {
     "data": {
      "image/png": "[encoded data removed]",
      "text/plain": [
       "<matplotlib.figure.Figure at 0x108fc92e8>"
      ]
     },
     "metadata": {},
     "output_type": "display_data"
    },
    {
     "data": {
      "text/plain": [
       "Class\n",
       "A    77.227273\n",
       "B    79.391304\n",
       "Name: Grade, dtype: float64"
      ]
     },
     "execution_count": 8,
     "metadata": {},
     "output_type": "execute_result"
    }
   ],
   "source": [
    "sns.violinplot(x=\"Class\", y=\"Grade\", data=df)\n",
    "plt.show()\n",
    "df[\"Grade\"].groupby(df[\"Class\"]).mean()"
   ]
  },
  {
   "cell_type": "code",
   "execution_count": 9,
   "metadata": {},
   "outputs": [
    {
     "name": "stdout",
     "output_type": "stream",
     "text": [
      "p-value: 1.0\n"
     ]
    },
    {
     "data": {
      "image/png": "[encoded data removed]",
      "text/plain": [
       "<matplotlib.figure.Figure at 0x116276240>"
      ]
     },
     "metadata": {},
     "output_type": "display_data"
    }
   ],
   "source": [
    "a=df[df.Class==\"A\"][\"Grade\"]\n",
    "b=df[df.Class==\"B\"][\"Grade\"]\n",
    "diff_means = permuttest(a,b)"
   ]
  },
  {
   "cell_type": "markdown",
   "metadata": {},
   "source": [
    "When I grouped by project format, it seemed like there might be some differences between the formats. The majority of students did either a comic or an essay, and it seemed like the essay writers generally scored better than the comic writers.\n",
    "Although the number of data points in each of these graphs is small and might be better suited for a swarm plot rather than a violin plot, I am keeping it as a violin plot to better maintain the privacy of the students' scores."
   ]
  },
  {
   "cell_type": "code",
   "execution_count": 10,
   "metadata": {},
   "outputs": [
    {
     "data": {
      "image/png": "[encoded data removed]",
      "text/plain": [
       "<matplotlib.figure.Figure at 0x116448908>"
      ]
     },
     "metadata": {},
     "output_type": "display_data"
    },
    {
     "name": "stdout",
     "output_type": "stream",
     "text": [
      "Mean grades for each format:\n",
      "Format\n",
      "comic    75.312500\n",
      "diary    71.666667\n",
      "essay    83.500000\n",
      "video    84.333333\n",
      "Name: Grade, dtype: float64\n",
      "\n",
      "Median grades for each format:\n",
      "Format\n",
      "comic    74.5\n",
      "diary    80.0\n",
      "essay    85.0\n",
      "video    89.0\n",
      "Name: Grade, dtype: float64\n"
     ]
    }
   ],
   "source": [
    "sns.violinplot(x=\"Format\", y=\"Grade\", data=df)\n",
    "plt.show()\n",
    "print(\"Mean grades for each format:\")\n",
    "print(df[\"Grade\"].groupby(df[\"Format\"]).mean())\n",
    "print(\"\\nMedian grades for each format:\")\n",
    "print(df[\"Grade\"].groupby(df[\"Format\"]).median())"
   ]
  },
  {
   "cell_type": "markdown",
   "metadata": {},
   "source": [
    "The average comic scored 8 points less than the average essay."
   ]
  },
  {
   "cell_type": "code",
   "execution_count": 12,
   "metadata": {},
   "outputs": [
    {
     "name": "stdout",
     "output_type": "stream",
     "text": [
      "8.1875\n"
     ]
    }
   ],
   "source": [
    "e=df[df.Format==\"essay\"][\"Grade\"]\n",
    "c=df[df.Format==\"comic\"][\"Grade\"]\n",
    "essay_comic_dif = np.mean(e)-np.mean(c)\n",
    "print(essay_comic_dif)"
   ]
  },
  {
   "cell_type": "code",
   "execution_count": 17,
   "metadata": {},
   "outputs": [
    {
     "name": "stdout",
     "output_type": "stream",
     "text": [
      "p-value: 0.1203\n"
     ]
    },
    {
     "data": {
      "image/png": "[encoded data removed]",
      "text/plain": [
       "<matplotlib.figure.Figure at 0x11670c2b0>"
      ]
     },
     "metadata": {},
     "output_type": "display_data"
    }
   ],
   "source": [
    "diff_means = permuttest(e,c)"
   ]
  },
  {
   "cell_type": "code",
   "execution_count": 18,
   "metadata": {},
   "outputs": [
    {
     "data": {
      "text/plain": [
       "array([-10.16071429,  10.0625    ])"
      ]
     },
     "execution_count": 18,
     "metadata": {},
     "output_type": "execute_result"
    }
   ],
   "source": [
    "np.percentile(diff_means, [2.5, 97.5])"
   ]
  },
  {
   "cell_type": "markdown",
   "metadata": {},
   "source": [
    "Although it appeared that there might be a difference in the students' scores based on their format choice, it was not significant. \n",
    "I also tested the difference in the median scores, as there were a few outliers who brought down the mean scores. However, it was also not significant."
   ]
  },
  {
   "cell_type": "code",
   "execution_count": 22,
   "metadata": {
    "collapsed": true
   },
   "outputs": [],
   "source": [
    "def permuttestmedian(series1, series2, size=10000):\n",
    "    \"\"\"Does a permutation test to compute difference in medians between size iterations of a permutation test. Returns array of dif. of medians\"\"\"\n",
    "    true_diff = np.median(series1)-np.median(series2)\n",
    "    concatarray = np.concatenate((np.array(series1), np.array(series2)))\n",
    "    diff_medians = np.empty(size)\n",
    "    for i in range(size):\n",
    "        permuted = np.random.permutation(concatarray)\n",
    "        s1 = permuted[:len(series1)]\n",
    "        s2 = permuted[len(series1):]\n",
    "        diff_means[i]=np.median(s1)-np.median(s2)\n",
    "    p = sum(np.abs(diff_means)>=true_diff)/size\n",
    "    print('p-value: {}'.format(p))\n",
    "    plt.hist(diff_means)\n",
    "    plt.xlabel(\"Difference of medians\")\n",
    "    plt.ylabel(\"Frequency\")\n",
    "    plt.axvline(x=true_diff, color=\"r\");\n",
    "    return diff_medians"
   ]
  },
  {
   "cell_type": "code",
   "execution_count": 23,
   "metadata": {},
   "outputs": [
    {
     "name": "stdout",
     "output_type": "stream",
     "text": [
      "p-value: 0.1099\n"
     ]
    },
    {
     "data": {
      "image/png": "[encoded data removed]",
      "text/plain": [
       "<matplotlib.figure.Figure at 0x11657a0f0>"
      ]
     },
     "metadata": {},
     "output_type": "display_data"
    }
   ],
   "source": [
    "diff_medians = permuttestmedian(e,c)"
   ]
  },
  {
   "cell_type": "markdown",
   "metadata": {},
   "source": [
    "Based on this analysis, I did not see a compelling reason to adjust some students scores based on their format. "
   ]
  }
 ],
 "metadata": {
  "kernelspec": {
   "display_name": "Python 3",
   "language": "python",
   "name": "python3"
  },
  "language_info": {
   "codemirror_mode": {
    "name": "ipython",
    "version": 3
   },
   "file_extension": ".py",
   "mimetype": "text/x-python",
   "name": "python",
   "nbconvert_exporter": "python",
   "pygments_lexer": "ipython3",
   "version": "3.6.1"
  }
 },
 "nbformat": 4,
 "nbformat_minor": 2
}
