{
 "cells": [
  {
   "cell_type": "markdown",
   "metadata": {
    "colab_type": "text",
    "id": "DIlOAxPE-gB2"
   },
   "source": [
    "This is a script I wrote so that I could better track my students. I found that it was hard to notice slight changes in a student's scores until they had dropped signficiantly. To make sure that I was able to detect more subtle trends, I wanted to flag students who were trending down, underperforming compared to the class, or underperforming compared to themselves.\n",
    "\n",
    "Current issues:\n",
    "*   XLSX parsing not working in Google Colab\n",
    "\n",
    "\n",
    "\n",
    "\n"
   ]
  },
  {
   "cell_type": "code",
   "execution_count": 1,
   "metadata": {
    "colab": {
     "autoexec": {
      "startup": false,
      "wait_interval": 0
     }
    },
    "colab_type": "code",
    "collapsed": true,
    "id": "wc4GXT_wslWy"
   },
   "outputs": [],
   "source": [
    "#from google.colab import files #this is just for google colab\n",
    "#import io #this is just for google colab\n",
    "import math\n",
    "import matplotlib.pyplot as plt\n",
    "import numpy as np\n",
    "import pandas as pd\n",
    "import seaborn as sns\n",
    "from sklearn.linear_model import LinearRegression\n",
    "%matplotlib inline"
   ]
  },
  {
   "cell_type": "code",
   "execution_count": 2,
   "metadata": {
    "colab": {
     "autoexec": {
      "startup": false,
      "wait_interval": 0
     },
     "base_uri": "https://localhost:8080/",
     "height": 89,
     "output_extras": [
      {
       "item_id": 1
      },
      {
       "item_id": 2
      }
     ],
     "resources": {
      "http://localhost:8080/nbextensions/google.colab/files.js": {
       "data": "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",
       "headers": [
        [
         "content-type",
         "application/javascript"
        ]
       ],
       "ok": true,
       "status": 200,
       "status_text": ""
      }
     }
    },
    "colab_type": "code",
    "executionInfo": {
     "elapsed": 7102,
     "status": "ok",
     "timestamp": 1518142480241,
     "user": {
      "displayName": "Holly Johnsen",
      "photoUrl": "//lh6.googleusercontent.com/-m5eRoMSd1eg/AAAAAAAAAAI/AAAAAAAAAEc/Lp0tpF6-1wU/s50-c-k-no/photo.jpg",
      "userId": "117360860755359688817"
     },
     "user_tz": 480
    },
    "id": "OlZ6oVR8-23L",
    "outputId": "6724fcc1-d45e-4476-e3c4-27239a141ef5"
   },
   "outputs": [],
   "source": [
    "# Upload gradebook as CSV file to Google Colab\n",
    "#uploaded = files.upload() #this is just for google colab\n",
    "#uploaded #this is just for google colab"
   ]
  },
  {
   "cell_type": "markdown",
   "metadata": {
    "colab_type": "text",
    "id": "WKbiERaOALda"
   },
   "source": [
    "The following cell contains arguments which should be set to control output. Select which class period the gradebook corresponds to and which outputs/flags to perform."
   ]
  },
  {
   "cell_type": "code",
   "execution_count": 3,
   "metadata": {
    "colab": {
     "autoexec": {
      "startup": false,
      "wait_interval": 0
     }
    },
    "colab_type": "code",
    "collapsed": true,
    "id": "lUbQ3fQ9soNy"
   },
   "outputs": [],
   "source": [
    "filename= \"Sample_scoresheet.csv\"\n",
    "# Select which class this gradebook is for\n",
    "period = \"other\"   # \"Alg\", \"Pre-alg\"\n",
    "\n",
    "# Set a way to find max scores. This is necessary because our gradebook program only exports\n",
    "# raw scores, not percentages, and does not include how many points each assignment was out of.\n",
    "if period == \"Alg\":\n",
    "# For algebra, use a dictionary of known max scores\n",
    "  max_scores_dict = {\"Test 1\": 20, \"Test 2\": 20, \"Test 3\": 20, \"Test 4\": 20, \"Test 5\": 20,  \n",
    "                  \"Test 7\": 20, \"Test 8\": 20, \"Test 10\": 20, \"Test 11\": 20, \"Test 12\": 20, \n",
    "                   \"Test 13\": 22, \"Test 15\": 25, \"Common\": 25, \"Native\": 15,  \"Native 2\": 15}\n",
    "elif period == \"Pre-alg\":\n",
    "  # There is a \"facts\" test each week which is less important. May want to exclude.\n",
    "  exclude_facts = True\n",
    "\n",
    "else:\n",
    "  # For other classes, just assume the highest score was 100%\n",
    "  normalize_by_max=True\n",
    "\n",
    "# This will print lines fit to the scores and flag students who have a >threshold decline\n",
    "flag_downward_trend = True\n",
    "trend_threshold = 0.005\n",
    "\n",
    "# This will find Z scores of the latest score compared to each student's older assignments\n",
    "# and flag students who underperformed\n",
    "flag_below_own_average = True\n",
    "# Select threshold for how many stds below usual score to flag\n",
    "Z_threshold = 1\n",
    "\n",
    "# This wll flag students who are underperforming compared to the rest of the class\n",
    "flag_below_class_average = True\n",
    "# Select threshold for how many stds below class average to flag\n",
    "below_class_threshold = 0.5\n",
    "\n"
   ]
  },
  {
   "cell_type": "code",
   "execution_count": 4,
   "metadata": {
    "colab": {
     "autoexec": {
      "startup": false,
      "wait_interval": 0
     }
    },
    "colab_type": "code",
    "id": "pvyyIvrksqCP"
   },
   "outputs": [],
   "source": [
    "#filename = list(uploaded.keys())[0] #this is just for google colab\n",
    "\n",
    "if filename[-4:] == \".csv\":\n",
    "  df=pd.read_csv(filename, index_col=0)\n",
    "\n",
    "elif filename[-4:] == \"xlsx\":\n",
    "  df = pd.read_excel(filename)\n",
    "  # this is currently not working correctly in Google Colab\n",
    "  #if extra sheets, may need to use these lines:\n",
    "  #xl = pd.read_excel(filename)\n",
    "  #df = xl.parse(0)\n",
    "\n",
    "# The first column is the overall grade, not a score, so drop it\n",
    "df.drop(df.columns[[0]], axis=1, inplace=True)\n",
    "\n",
    "if period == \"Alg\":\n",
    "  n_tests = len(max_scores_dict)\n",
    "  if n_tests!=len(df.columns):\n",
    "    print(\"N tests: {}; len columns: {}\".format(n_tests, len(df.columns)))\n",
    "    raise ValueError(\"the number of assignments in your spreadsheet is not the same as your max_scores list\")\n",
    "  # Turn raw scores into fraction of max\n",
    "  for col in df.columns:\n",
    "    df[col] = df[col]/max_scores_dict[col]\n",
    "  # Average the Common and Native precomp scores together and drop individual scores.\n",
    "  df[\"Precomp\"] = (df.Common+df.Native)/2\n",
    "  df.drop([\"Common\", \"Native\", \"Native 2\"], axis=1, inplace=True)\n",
    "\n",
    "# Since my Pre-alg class has more predictable max scores, use assignment name to get max score.\n",
    "elif period == \"Pre-alg\":\n",
    "  for col in df.columns:\n",
    "  # Turn raw scores into fraction of max\n",
    "    if \"facts\" in col.lower():\n",
    "      if exclude_facts:\n",
    "        df.drop(col, axis=1, inplace=True)\n",
    "      else:\n",
    "        df[col]=df[col]/10.0\n",
    "    else:\n",
    "      df[col]=df[col]/20.0\n",
    "      \n",
    "elif normalize_by_max:\n",
    "  for col in df.columns:\n",
    "  # Turn raw scores into fraction of max seen\n",
    "    df[col] = df[col]/df[col].max()\n",
    "  \n",
    "\n",
    "n_tests = len(df.columns)"
   ]
  },
  {
   "cell_type": "code",
   "execution_count": 5,
   "metadata": {
    "colab": {
     "autoexec": {
      "startup": false,
      "wait_interval": 0
     },
     "base_uri": "https://localhost:8080/",
     "height": 2539,
     "output_extras": [
      {
       "item_id": 1
      },
      {
       "item_id": 2
      },
      {
       "item_id": 3
      },
      {
       "item_id": 4
      },
      {
       "item_id": 5
      },
      {
       "item_id": 6
      },
      {
       "item_id": 7
      },
      {
       "item_id": 8
      },
      {
       "item_id": 9
      },
      {
       "item_id": 10
      },
      {
       "item_id": 11
      },
      {
       "item_id": 12
      },
      {
       "item_id": 13
      },
      {
       "item_id": 14
      },
      {
       "item_id": 15
      },
      {
       "item_id": 16
      },
      {
       "item_id": 17
      },
      {
       "item_id": 18
      },
      {
       "item_id": 19
      }
     ]
    },
    "colab_type": "code",
    "executionInfo": {
     "elapsed": 1527,
     "status": "ok",
     "timestamp": 1518142483455,
     "user": {
      "displayName": "Holly Johnsen",
      "photoUrl": "//lh6.googleusercontent.com/-m5eRoMSd1eg/AAAAAAAAAAI/AAAAAAAAAEc/Lp0tpF6-1wU/s50-c-k-no/photo.jpg",
      "userId": "117360860755359688817"
     },
     "user_tz": 480
    },
    "id": "DO6ojfLk1si3",
    "outputId": "8f08e97e-2965-4a45-a528-20c533c955f3"
   },
   "outputs": [
    {
     "name": "stderr",
     "output_type": "stream",
     "text": [
      "/anaconda/lib/python3.6/site-packages/ipykernel_launcher.py:9: FutureWarning: reshape is deprecated and will raise in a subsequent release. Please use .values.reshape(...) instead\n",
      "  if __name__ == '__main__':\n"
     ]
    },
    {
     "name": "stdout",
     "output_type": "stream",
     "text": [
      "A student: -0.0052631578947368455\n"
     ]
    },
    {
     "data": {
      "image/png": "[encoded data removed]",
      "text/plain": [
       "<matplotlib.figure.Figure at 0x10f0572b0>"
      ]
     },
     "metadata": {},
     "output_type": "display_data"
    },
    {
     "name": "stdout",
     "output_type": "stream",
     "text": [
      "B student: 0.004473684210526328\n"
     ]
    },
    {
     "data": {
      "image/png": "[encoded data removed]",
      "text/plain": [
       "<matplotlib.figure.Figure at 0x114747400>"
      ]
     },
     "metadata": {},
     "output_type": "display_data"
    },
    {
     "name": "stdout",
     "output_type": "stream",
     "text": [
      "C student: 0.010526315789473687\n"
     ]
    },
    {
     "data": {
      "image/png": "[encoded data removed]",
      "text/plain": [
       "<matplotlib.figure.Figure at 0x114b8f9b0>"
      ]
     },
     "metadata": {},
     "output_type": "display_data"
    },
    {
     "name": "stdout",
     "output_type": "stream",
     "text": [
      "D student: 0.03894736842105261\n"
     ]
    },
    {
     "data": {
      "image/png": "[encoded data removed]",
      "text/plain": [
       "<matplotlib.figure.Figure at 0x114b68080>"
      ]
     },
     "metadata": {},
     "output_type": "display_data"
    },
    {
     "name": "stdout",
     "output_type": "stream",
     "text": [
      "Student with missing assignments: missing scores\n",
      "Student with missing assignments: -0.05263157894736846\n"
     ]
    },
    {
     "name": "stderr",
     "output_type": "stream",
     "text": [
      "/anaconda/lib/python3.6/site-packages/ipykernel_launcher.py:14: FutureWarning: reshape is deprecated and will raise in a subsequent release. Please use .values.reshape(...) instead\n",
      "  \n"
     ]
    },
    {
     "data": {
      "image/png": "[encoded data removed]",
      "text/plain": [
       "<matplotlib.figure.Figure at 0x114da7550>"
      ]
     },
     "metadata": {},
     "output_type": "display_data"
    },
    {
     "name": "stdout",
     "output_type": "stream",
     "text": [
      "Student trending down: -0.05026315789473681\n"
     ]
    },
    {
     "data": {
      "image/png": "[encoded data removed]",
      "text/plain": [
       "<matplotlib.figure.Figure at 0x114ec8240>"
      ]
     },
     "metadata": {},
     "output_type": "display_data"
    },
    {
     "name": "stdout",
     "output_type": "stream",
     "text": [
      "Student with bad recent assignment: -0.054736842105263125\n"
     ]
    },
    {
     "data": {
      "image/png": "[encoded data removed]",
      "text/plain": [
       "<matplotlib.figure.Figure at 0x114fc17f0>"
      ]
     },
     "metadata": {},
     "output_type": "display_data"
    },
    {
     "name": "stdout",
     "output_type": "stream",
     "text": [
      "Student trending up: 0.05026315789473686\n"
     ]
    },
    {
     "data": {
      "image/png": "[encoded data removed]",
      "text/plain": [
       "<matplotlib.figure.Figure at 0x114eb5080>"
      ]
     },
     "metadata": {},
     "output_type": "display_data"
    },
    {
     "name": "stdout",
     "output_type": "stream",
     "text": [
      "Flagging:  ['A student', 'Student with missing assignments', 'Student trending down', 'Student with bad recent assignment']\n"
     ]
    }
   ],
   "source": [
    "def trends(df, flag_students=[]):\n",
    "  '''Input: pandas dataframe, optional list of students who are flagged. \n",
    "  Output: list of students flagged because they are trending down more steeply\n",
    "  than the accepted threshold'''\n",
    "  for student, scores in df.iterrows():\n",
    "        try:\n",
    "            regressor = LinearRegression() #initialize\n",
    "            X = np.arange(n_tests).reshape(-1, 1)\n",
    "            y = scores.reshape(-1, 1)\n",
    "            regressor.fit(X, y)\n",
    "        except:\n",
    "            print(student+\": missing scores\")\n",
    "            scores = scores.dropna()\n",
    "            y = scores.reshape(-1,1)\n",
    "            X = np.arange(len(y)).reshape(-1, 1)\n",
    "            regressor.fit(X, y)\n",
    "        trend = regressor.coef_[0][0]\n",
    "        print(student+ \": {}\".format(trend))\n",
    "        predict = regressor.predict(X)\n",
    "        if trend < -trend_threshold:\n",
    "            flag_students.append(student)\n",
    "            color = \"red\"\n",
    "        else:\n",
    "            color = \"blue\"\n",
    "        plt.scatter(X, y)\n",
    "        plt.plot(X, predict, color=color)\n",
    "        plt.xticks(X, scores.index, rotation = 70)\n",
    "        plt.yticks(np.arange(0,1.1,0.1))\n",
    "        plt.ylim([0,1])\n",
    "        plt.ylabel(\"Score\")\n",
    "        plt.title(student)\n",
    "        #plt.margins(0.02)\n",
    "        plt.show()\n",
    "        \n",
    "  print(\"Flagging: \", flag_students)\n",
    "  return set(flag_students)\n",
    "    \n",
    "if flag_downward_trend:\n",
    "    flag_downward_trend_students=trends(df)"
   ]
  },
  {
   "cell_type": "code",
   "execution_count": 6,
   "metadata": {
    "colab": {
     "autoexec": {
      "startup": false,
      "wait_interval": 0
     },
     "base_uri": "https://localhost:8080/",
     "height": 119,
     "output_extras": [
      {
       "item_id": 1
      }
     ]
    },
    "colab_type": "code",
    "executionInfo": {
     "elapsed": 324,
     "status": "ok",
     "timestamp": 1518142483834,
     "user": {
      "displayName": "Holly Johnsen",
      "photoUrl": "//lh6.googleusercontent.com/-m5eRoMSd1eg/AAAAAAAAAAI/AAAAAAAAAEc/Lp0tpF6-1wU/s50-c-k-no/photo.jpg",
      "userId": "117360860755359688817"
     },
     "user_tz": 480
    },
    "id": "uadWmoXb1yxQ",
    "outputId": "ab082c95-c1d3-4be0-f626-70e586737d72"
   },
   "outputs": [
    {
     "name": "stdout",
     "output_type": "stream",
     "text": [
      "Latest assignment: Test 4\n",
      "Student trending down: \n",
      "-4.19, Average: 0.93 +/-0.03, Latest Test: 0.80\n",
      "Student with bad recent assignment: \n",
      "-7.28, Average: 0.97 +/-0.03, Latest Test: 0.75\n",
      "Flagging:  ['Student trending down', 'Student with bad recent assignment']\n"
     ]
    }
   ],
   "source": [
    "def below_own_avg(df, flag_students = []):\n",
    "  '''Input: pandas dataframe, optional list of students who are flagged\n",
    "   Output: list of students flagged because they performed worse than normal'''\n",
    "  print(\"Latest assignment:\", df.columns[-1])\n",
    "  for student, scores in df.iterrows():\n",
    "      try:\n",
    "          avg = scores[:-1].mean()\n",
    "          std = scores[:-1].std()\n",
    "          Z = (scores[-1] - avg)/std\n",
    "          if Z<-Z_threshold:\n",
    "              print(student+ \": \\n{:.2f}, Average: {:.2f} +/-{:.2f}, Latest Test: {:.2f}\".format(Z, avg, std, scores[-1]))\n",
    "              flag_students.append(student)\n",
    "      except:\n",
    "          print(student+\": error\")\n",
    "\n",
    "  print(\"Flagging: \", flag_students)\n",
    "  return set(flag_students)\n",
    "    \n",
    "if flag_below_own_average:\n",
    "    flag_below_own_average_students=below_own_avg(df)"
   ]
  },
  {
   "cell_type": "code",
   "execution_count": 7,
   "metadata": {
    "colab": {
     "autoexec": {
      "startup": false,
      "wait_interval": 0
     },
     "base_uri": "https://localhost:8080/",
     "height": 85,
     "output_extras": [
      {
       "item_id": 1
      }
     ]
    },
    "colab_type": "code",
    "executionInfo": {
     "elapsed": 326,
     "status": "ok",
     "timestamp": 1518142484626,
     "user": {
      "displayName": "Holly Johnsen",
      "photoUrl": "//lh6.googleusercontent.com/-m5eRoMSd1eg/AAAAAAAAAAI/AAAAAAAAAEc/Lp0tpF6-1wU/s50-c-k-no/photo.jpg",
      "userId": "117360860755359688817"
     },
     "user_tz": 480
    },
    "id": "JTz-bH86Efu4",
    "outputId": "b6f7a336-2a8e-4e42-cd5d-929f11979251"
   },
   "outputs": [
    {
     "name": "stdout",
     "output_type": "stream",
     "text": [
      "Flagging:\n",
      "D student                            -1.260252\n",
      "Student with bad recent assignment   -0.840168\n",
      "Name: Test 4, dtype: float64\n"
     ]
    }
   ],
   "source": [
    "def below_class_avg(df, flag_students = []):\n",
    "  '''Input: pandas dataframe, optional list of students who are flagged\n",
    "  Output: list of students flagged because they performed worse than the rest of the class'''\n",
    "  try:\n",
    "    last_test = df.iloc[:, -1]\n",
    "    avg = last_test.mean()\n",
    "    std = last_test.std()\n",
    "    Z = (last_test-avg)/std\n",
    "    flag = Z[Z<-below_class_threshold].sort_values()\n",
    "    print(\"Flagging:\")\n",
    "    print(flag)\n",
    "    flag_students = flag.index.tolist()\n",
    "    return set(flag_students)\n",
    "  except:\n",
    "    print(\"error\")\n",
    "\n",
    "if flag_below_class_average:\n",
    "  flag_below_class_average_students = below_class_avg(df, flag_students = []) "
   ]
  },
  {
   "cell_type": "code",
   "execution_count": 8,
   "metadata": {
    "colab": {
     "autoexec": {
      "startup": false,
      "wait_interval": 0
     },
     "base_uri": "https://localhost:8080/",
     "height": 34,
     "output_extras": [
      {
       "item_id": 1
      }
     ]
    },
    "colab_type": "code",
    "executionInfo": {
     "elapsed": 303,
     "status": "ok",
     "timestamp": 1518142485615,
     "user": {
      "displayName": "Holly Johnsen",
      "photoUrl": "//lh6.googleusercontent.com/-m5eRoMSd1eg/AAAAAAAAAAI/AAAAAAAAAEc/Lp0tpF6-1wU/s50-c-k-no/photo.jpg",
      "userId": "117360860755359688817"
     },
     "user_tz": 480
    },
    "id": "6qLfi-n42eu7",
    "outputId": "30018dc2-4595-4dbb-d1f3-a18b4a394d46"
   },
   "outputs": [
    {
     "name": "stdout",
     "output_type": "stream",
     "text": [
      "Triple flagged:  {'Student with bad recent assignment'}\n"
     ]
    }
   ],
   "source": [
    "# Test if any students were flagged in all three metrics. They might need intervention\n",
    "triple_flag = flag_downward_trend_students.intersection(flag_below_own_average_students).intersection(flag_below_class_average_students)\n",
    "print(\"Triple flagged: \", triple_flag)\n"
   ]
  }
 ],
 "metadata": {
  "colab": {
   "collapsed_sections": [],
   "default_view": {},
   "name": "Public_version_GradeTracker.ipynb",
   "provenance": [
    {
     "file_id": "1X5XMZST-OEJJy8zWzoteUh2ryewQnJdr",
     "timestamp": 1518140938594
    }
   ],
   "version": "0.3.2",
   "views": {}
  },
  "kernelspec": {
   "display_name": "Python 3",
   "language": "python",
   "name": "python3"
  },
  "language_info": {
   "codemirror_mode": {
    "name": "ipython",
    "version": 3
   },
   "file_extension": ".py",
   "mimetype": "text/x-python",
   "name": "python",
   "nbconvert_exporter": "python",
   "pygments_lexer": "ipython3",
   "version": "3.6.1"
  }
 },
 "nbformat": 4,
 "nbformat_minor": 1
}
